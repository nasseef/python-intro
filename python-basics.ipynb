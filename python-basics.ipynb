{
 "cells": [
  {
   "attachments": {},
   "cell_type": "markdown",
   "metadata": {},
   "source": [
    "## Python Basics\n",
    "\n",
    "#### Variables\n",
    "Data must be stored in memory before we can use it. A memory location is identified with a name called `identifier ` or a `variable`. Data can be of several types.\n",
    "### Data Types\n",
    "#### str (string type)\n",
    "A sequence of charactors enclosed in a single (') or double (\") quotations. If the string spans multiple lines, we use triple quotations (''', \"\"\"). \n",
    "\n",
    "The following example stores a string in memory under the name `city`. `city` is called a variable. Python will determine the type of variable based on the assignment value. "
   ]
  },
  {
   "cell_type": "code",
   "execution_count": null,
   "metadata": {},
   "outputs": [],
   "source": [
    "city = 'Athens'"
   ]
  },
  {
   "attachments": {},
   "cell_type": "markdown",
   "metadata": {},
   "source": [
    "#### int (integer type)\n",
    "Whole numbers (no fractional part). Examples: -2, 45, 0, 999, etc"
   ]
  },
  {
   "cell_type": "code",
   "execution_count": null,
   "metadata": {},
   "outputs": [],
   "source": [
    "age = 22    # creates a memory location of type int and stores 22"
   ]
  }
 ],
 "metadata": {
  "language_info": {
   "name": "python"
  },
  "orig_nbformat": 4
 },
 "nbformat": 4,
 "nbformat_minor": 2
}
